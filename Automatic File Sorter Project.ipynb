{
 "cells": [
  {
   "cell_type": "code",
   "execution_count": 1,
   "id": "158401a0",
   "metadata": {},
   "outputs": [],
   "source": [
    "import os, shutil"
   ]
  },
  {
   "cell_type": "code",
   "execution_count": 4,
   "id": "183134ab",
   "metadata": {},
   "outputs": [],
   "source": [
    "path = '/Users/oluwaseunoriretan/Desktop/Automatic_Sorter//'"
   ]
  },
  {
   "cell_type": "code",
   "execution_count": 3,
   "id": "d1921864",
   "metadata": {},
   "outputs": [
    {
     "data": {
      "text/plain": [
       "['Rosie.png',\n",
       " 'FakeFile.txt',\n",
       " 'Max.png',\n",
       " 'NewFile.txt',\n",
       " 'CSVFile.csv',\n",
       " 'FakeFile.csv',\n",
       " 'NewFile.tsv']"
      ]
     },
     "execution_count": 3,
     "metadata": {},
     "output_type": "execute_result"
    }
   ],
   "source": [
    "os.listdir(path)"
   ]
  },
  {
   "cell_type": "code",
   "execution_count": null,
   "id": "200ae008",
   "metadata": {},
   "outputs": [],
   "source": [
    "#os.makedirs(path + new_folder_name)"
   ]
  },
  {
   "cell_type": "code",
   "execution_count": 6,
   "id": "d04e1d4b",
   "metadata": {},
   "outputs": [],
   "source": [
    "folder_names = ['CSV Files', 'Text Files', 'Image Files']\n",
    "\n",
    "#/Users/oluwaseunoriretan/Desktop/Automatic_Sorter/Image Files\n",
    "for folder in folder_names:\n",
    "    if not os.path.exists(path + folder):\n",
    "        os.makedirs(path + folder)\n",
    "    "
   ]
  },
  {
   "cell_type": "code",
   "execution_count": 8,
   "id": "5284ecfd",
   "metadata": {},
   "outputs": [],
   "source": [
    "file_names = os.listdir(path)"
   ]
  },
  {
   "cell_type": "code",
   "execution_count": 9,
   "id": "cb7430c0",
   "metadata": {},
   "outputs": [],
   "source": [
    "for file in file_names:\n",
    "    if  '.csv' in file and not os.path.exists(path + 'CSV Files//' +file):\n",
    "        shutil.move(path + file, path + 'CSV Files//' + file)\n",
    "    elif  '.png' in file and not os.path.exists(path + 'Image Files//' +file):\n",
    "        shutil.move(path + file, path + 'Image Files//' + file)\n",
    "    elif  '.txt' in file and not os.path.exists(path + 'Text Files//' +file):\n",
    "        shutil.move(path + file, path + 'Text Files//' + file)\n",
    "        "
   ]
  },
  {
   "cell_type": "markdown",
   "id": "91672d79",
   "metadata": {},
   "source": [
    "Script "
   ]
  },
  {
   "cell_type": "code",
   "execution_count": null,
   "id": "ab1f2323",
   "metadata": {},
   "outputs": [],
   "source": [
    "path = '/Users/oluwaseunoriretan/Desktop/Automatic_Sorter//'\n",
    "\n",
    "folder_names = ['CSV Files', 'Text Files', 'Image Files']\n",
    "\n",
    "for folder in folder_names:\n",
    "    if not os.path.exists(path + folder):\n",
    "        os.makedirs(path + folder)\n",
    "        \n",
    "file_names = os.listdir(path)\n",
    "\n",
    "for file in file_names:\n",
    "    if  '.csv' in file and not os.path.exists(path + 'CSV Files//' +file):\n",
    "        shutil.move(path + file, path + 'CSV Files//' + file)\n",
    "    elif  '.png' in file and not os.path.exists(path + 'Image Files//' +file):\n",
    "        shutil.move(path + file, path + 'Image Files//' + file)\n",
    "    elif  '.txt' in file and not os.path.exists(path + 'Text Files//' +file):\n",
    "        shutil.move(path + file, path + 'Text Files//' + file)\n",
    "        "
   ]
  },
  {
   "cell_type": "code",
   "execution_count": null,
   "id": "e911a4e4",
   "metadata": {},
   "outputs": [],
   "source": []
  },
  {
   "cell_type": "code",
   "execution_count": null,
   "id": "fd6b7cc0",
   "metadata": {},
   "outputs": [],
   "source": []
  },
  {
   "cell_type": "code",
   "execution_count": null,
   "id": "28501aaa",
   "metadata": {},
   "outputs": [],
   "source": []
  },
  {
   "cell_type": "code",
   "execution_count": null,
   "id": "5b81c463",
   "metadata": {},
   "outputs": [],
   "source": []
  },
  {
   "cell_type": "code",
   "execution_count": null,
   "id": "7bd0c3ec",
   "metadata": {},
   "outputs": [],
   "source": []
  },
  {
   "cell_type": "code",
   "execution_count": null,
   "id": "e03ba8c1",
   "metadata": {},
   "outputs": [],
   "source": []
  },
  {
   "cell_type": "code",
   "execution_count": null,
   "id": "a8b93039",
   "metadata": {},
   "outputs": [],
   "source": []
  },
  {
   "cell_type": "code",
   "execution_count": null,
   "id": "3a0b036e",
   "metadata": {},
   "outputs": [],
   "source": []
  },
  {
   "cell_type": "code",
   "execution_count": null,
   "id": "fb716336",
   "metadata": {},
   "outputs": [],
   "source": []
  }
 ],
 "metadata": {
  "kernelspec": {
   "display_name": "Python 3 (ipykernel)",
   "language": "python",
   "name": "python3"
  },
  "language_info": {
   "codemirror_mode": {
    "name": "ipython",
    "version": 3
   },
   "file_extension": ".py",
   "mimetype": "text/x-python",
   "name": "python",
   "nbconvert_exporter": "python",
   "pygments_lexer": "ipython3",
   "version": "3.11.5"
  }
 },
 "nbformat": 4,
 "nbformat_minor": 5
}
